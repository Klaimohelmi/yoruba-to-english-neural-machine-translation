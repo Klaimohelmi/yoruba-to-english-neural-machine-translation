{
  "nbformat": 4,
  "nbformat_minor": 0,
  "metadata": {
    "kernelspec": {
      "language": "python",
      "display_name": "Python 3",
      "name": "python3"
    },
    "language_info": {
      "name": "python",
      "version": "3.6.6",
      "mimetype": "text/x-python",
      "codemirror_mode": {
        "name": "ipython",
        "version": 3
      },
      "pygments_lexer": "ipython3",
      "nbconvert_exporter": "python",
      "file_extension": ".py"
    },
    "colab": {
      "name": "yoruba-to-english-neural-machine-translation.ipynb",
      "provenance": []
    }
  },
  "cells": [
    {
      "cell_type": "markdown",
      "metadata": {
        "id": "W1GdGz9A-YGm"
      },
      "source": [
        "Reference : https://blog.keras.io/a-ten-minute-introduction-to-sequence-to-sequence-learning-in-keras.html"
      ]
    },
    {
      "cell_type": "code",
      "metadata": {
        "_uuid": "8f2839f25d086af736a60e9eeb907d3b93b6e0e5",
        "_cell_guid": "b1076dfc-b9ad-4769-8c92-a6c4dae69d19",
        "trusted": true,
        "id": "WEuirdP7-Hr3",
        "outputId": "c5cc7c34-d9c9-44ee-ef16-d54321b144e9"
      },
      "source": [
        "# This Python 3 environment comes with many helpful analytics libraries installed\n",
        "# It is defined by the kaggle/python docker image: https://github.com/kaggle/docker-python\n",
        "# For example, here's several helpful packages to load in \n",
        "\n",
        "import numpy as np # linear algebra\n",
        "import pandas as pd # data processing, CSV file I/O (e.g. pd.read_csv)\n",
        "\n",
        "# Input data files are available in the \"../input/\" directory.\n",
        "# For example, running this (by clicking run or pressing Shift+Enter) will list the files in the input directory\n",
        "\n",
        "import os\n",
        "import string\n",
        "from string import digits\n",
        "import matplotlib.pyplot as plt\n",
        "%matplotlib inline\n",
        "import re\n",
        "\n",
        "import seaborn as sns\n",
        "from sklearn.utils import shuffle\n",
        "from sklearn.model_selection import train_test_split\n",
        "from keras.layers import Input, LSTM, Embedding, Dense\n",
        "from keras.models import Model\n",
        "\n",
        "print(os.listdir(\"../input\"))\n",
        "\n",
        "pd.set_option('display.max_rows', 500)\n",
        "pd.set_option('display.max_columns', 500)\n",
        "pd.set_option('display.width', 1000)\n",
        "pd.set_option('display.max_colwidth', -1)\n",
        "\n",
        "# Any results you write to the current directory are saved as output."
      ],
      "execution_count": null,
      "outputs": [
        {
          "output_type": "stream",
          "text": [
            "Using TensorFlow backend.\n"
          ],
          "name": "stderr"
        },
        {
          "output_type": "stream",
          "text": [
            "['hindienglish-corpora', 'zinditraduction']\n"
          ],
          "name": "stdout"
        }
      ]
    },
    {
      "cell_type": "code",
      "metadata": {
        "_cell_guid": "79c7e3d0-c299-4dcb-8224-4455121ee9b0",
        "_uuid": "d629ff2d2480ee46fbb7e2d37f6b5fab8052498a",
        "trusted": true,
        "id": "JPElIzix-HsC"
      },
      "source": [
        "lines=pd.read_csv(\"../input/zinditraduction/Train (13).csv\")"
      ],
      "execution_count": null,
      "outputs": []
    },
    {
      "cell_type": "code",
      "metadata": {
        "trusted": true,
        "id": "BmDHF2Cq-HsD",
        "outputId": "48a2ce05-1d46-44cb-9acd-5c1ce263703a"
      },
      "source": [
        "lines.head()"
      ],
      "execution_count": null,
      "outputs": [
        {
          "output_type": "execute_result",
          "data": {
            "text/plain": [
              "            ID                                                                                                                                                                                                                Yoruba                                                                                                                                                       English\n",
              "0  ID_AAJEQLCz  A ṣètò Ìgbìmọ̀ Tó Ń Ṣètò Ìrànwọ́ Nígbà Àjálù láti wá bí àwọn ará wa níbẹ̀ ṣe máa rí àwọn nǹkan tí wọ́n máa nílò lọ́jọ́ iwájú.                                                                                         A Disaster Relief Committee was formed to organize the long-term relief efforts.                                                                            \n",
              "1  ID_AASNedba  Ìrọ̀lẹ́ May 22, 2018 ni wọ́n fàṣẹ ọba mú Arákùnrin Solovyev ní ibùdókọ̀ ojú irin nígbà tí òun àti Anna ìyàwó rẹ̀ ń bọ̀ láti ìrìn-àjò tí wọ́n lọ lórílẹ̀-èdè míì.                                                      Brother Solovyev was arrested on the evening of May 22, 2018, at a railway station, as he was arriving home from a trip abroad with his wife, Anna.         \n",
              "2  ID_AAeQrhMq  Iléeṣẹ́ Creative Commons náà                                                                                                                                                                                          Creative Commons the Organization                                                                                                                           \n",
              "3  ID_AAxlMgPP  Pè̩lú Egypt, Morocco àti Tunisia tí wó̩n ti lo̩lé, Senegal nìkan lorílè̩èdè adúláwò̩ kan tó kù, wo̩n á fe̩sè̩wo̩nsè̩ pè̩lú Colombia ni ìfe̩sè̩wo̩nsè̩ tó ké̩yìn ikò̩ H ló̩jó̩bò̩.                                     With Egypt, Morocco and Tunisia out of the World Cup, Senegal, the only African nation left,  will take on Columbia in their last group H game on Thursday. \n",
              "4  ID_ABKuMKSx  Adájọ́ àgbà lórílẹ̀ èdè Náíjíríà (Attorney General of the Federation), Justice Abubakar Malami ti pàsẹ fún ilé-isẹ́ ọ̀tẹlẹ̀múyẹ́ (Department of State Services, DSS) láti jáwọ́ lórí ẹ̀sun Omoyẹle Sowore ní kíákíá.  The Attorney General of the Federation, Justice Abubakar Malami has ordered the Department of State Services (DSS) to hands off the trial of Omoyele Sowore."
            ],
            "text/html": [
              "<div>\n",
              "<style scoped>\n",
              "    .dataframe tbody tr th:only-of-type {\n",
              "        vertical-align: middle;\n",
              "    }\n",
              "\n",
              "    .dataframe tbody tr th {\n",
              "        vertical-align: top;\n",
              "    }\n",
              "\n",
              "    .dataframe thead th {\n",
              "        text-align: right;\n",
              "    }\n",
              "</style>\n",
              "<table border=\"1\" class=\"dataframe\">\n",
              "  <thead>\n",
              "    <tr style=\"text-align: right;\">\n",
              "      <th></th>\n",
              "      <th>ID</th>\n",
              "      <th>Yoruba</th>\n",
              "      <th>English</th>\n",
              "    </tr>\n",
              "  </thead>\n",
              "  <tbody>\n",
              "    <tr>\n",
              "      <th>0</th>\n",
              "      <td>ID_AAJEQLCz</td>\n",
              "      <td>A ṣètò Ìgbìmọ̀ Tó Ń Ṣètò Ìrànwọ́ Nígbà Àjálù láti wá bí àwọn ará wa níbẹ̀ ṣe máa rí àwọn nǹkan tí wọ́n máa nílò lọ́jọ́ iwájú.</td>\n",
              "      <td>A Disaster Relief Committee was formed to organize the long-term relief efforts.</td>\n",
              "    </tr>\n",
              "    <tr>\n",
              "      <th>1</th>\n",
              "      <td>ID_AASNedba</td>\n",
              "      <td>Ìrọ̀lẹ́ May 22, 2018 ni wọ́n fàṣẹ ọba mú Arákùnrin Solovyev ní ibùdókọ̀ ojú irin nígbà tí òun àti Anna ìyàwó rẹ̀ ń bọ̀ láti ìrìn-àjò tí wọ́n lọ lórílẹ̀-èdè míì.</td>\n",
              "      <td>Brother Solovyev was arrested on the evening of May 22, 2018, at a railway station, as he was arriving home from a trip abroad with his wife, Anna.</td>\n",
              "    </tr>\n",
              "    <tr>\n",
              "      <th>2</th>\n",
              "      <td>ID_AAeQrhMq</td>\n",
              "      <td>Iléeṣẹ́ Creative Commons náà</td>\n",
              "      <td>Creative Commons the Organization</td>\n",
              "    </tr>\n",
              "    <tr>\n",
              "      <th>3</th>\n",
              "      <td>ID_AAxlMgPP</td>\n",
              "      <td>Pè̩lú Egypt, Morocco àti Tunisia tí wó̩n ti lo̩lé, Senegal nìkan lorílè̩èdè adúláwò̩ kan tó kù, wo̩n á fe̩sè̩wo̩nsè̩ pè̩lú Colombia ni ìfe̩sè̩wo̩nsè̩ tó ké̩yìn ikò̩ H ló̩jó̩bò̩.</td>\n",
              "      <td>With Egypt, Morocco and Tunisia out of the World Cup, Senegal, the only African nation left,  will take on Columbia in their last group H game on Thursday.</td>\n",
              "    </tr>\n",
              "    <tr>\n",
              "      <th>4</th>\n",
              "      <td>ID_ABKuMKSx</td>\n",
              "      <td>Adájọ́ àgbà lórílẹ̀ èdè Náíjíríà (Attorney General of the Federation), Justice Abubakar Malami ti pàsẹ fún ilé-isẹ́ ọ̀tẹlẹ̀múyẹ́ (Department of State Services, DSS) láti jáwọ́ lórí ẹ̀sun Omoyẹle Sowore ní kíákíá.</td>\n",
              "      <td>The Attorney General of the Federation, Justice Abubakar Malami has ordered the Department of State Services (DSS) to hands off the trial of Omoyele Sowore.</td>\n",
              "    </tr>\n",
              "  </tbody>\n",
              "</table>\n",
              "</div>"
            ]
          },
          "metadata": {
            "tags": []
          },
          "execution_count": 4
        }
      ]
    },
    {
      "cell_type": "code",
      "metadata": {
        "trusted": true,
        "id": "3UZXvFdb-HsE"
      },
      "source": [
        ""
      ],
      "execution_count": null,
      "outputs": []
    },
    {
      "cell_type": "code",
      "metadata": {
        "trusted": true,
        "id": "lGP-OHYj-HsF"
      },
      "source": [
        ""
      ],
      "execution_count": null,
      "outputs": []
    },
    {
      "cell_type": "code",
      "metadata": {
        "trusted": true,
        "id": "4VPamrte-HsG"
      },
      "source": [
        ""
      ],
      "execution_count": null,
      "outputs": []
    },
    {
      "cell_type": "code",
      "metadata": {
        "trusted": true,
        "id": "Rf64LOWx-HsG",
        "outputId": "2f4d4cd2-cf02-4a60-937c-6b807236efcd"
      },
      "source": [
        "pd.isnull(lines).sum()"
      ],
      "execution_count": null,
      "outputs": [
        {
          "output_type": "execute_result",
          "data": {
            "text/plain": [
              "ID         0\n",
              "Yoruba     0\n",
              "English    0\n",
              "dtype: int64"
            ]
          },
          "metadata": {
            "tags": []
          },
          "execution_count": 5
        }
      ]
    },
    {
      "cell_type": "code",
      "metadata": {
        "trusted": true,
        "id": "npyXeOAc-HsG"
      },
      "source": [
        "lines=lines[~pd.isnull(lines['Yoruba'])]"
      ],
      "execution_count": null,
      "outputs": []
    },
    {
      "cell_type": "code",
      "metadata": {
        "trusted": true,
        "id": "Ks--J7RS-HsH"
      },
      "source": [
        "lines.drop_duplicates(inplace=True)"
      ],
      "execution_count": null,
      "outputs": []
    },
    {
      "cell_type": "markdown",
      "metadata": {
        "id": "E0X3hCjD-HsH"
      },
      "source": [
        "* ### Let us pick any 25000 rows from the dataset."
      ]
    },
    {
      "cell_type": "code",
      "metadata": {
        "trusted": true,
        "id": "9APTUG_1-HsI",
        "outputId": "1af75a25-0a90-4041-99d1-02a71245f6c8"
      },
      "source": [
        "#lines=lines.sample(n=25000,random_state=42)\n",
        "lines.shape"
      ],
      "execution_count": null,
      "outputs": [
        {
          "output_type": "execute_result",
          "data": {
            "text/plain": [
              "(10054, 3)"
            ]
          },
          "metadata": {
            "tags": []
          },
          "execution_count": 8
        }
      ]
    },
    {
      "cell_type": "code",
      "metadata": {
        "trusted": true,
        "id": "NK3zRxLV-HsI"
      },
      "source": [
        "# Lowercase all characters\n",
        "lines['Yoruba']=lines['Yoruba'].apply(lambda x: x.lower())\n",
        "lines['English']=lines['English'].apply(lambda x: x.lower())"
      ],
      "execution_count": null,
      "outputs": []
    },
    {
      "cell_type": "code",
      "metadata": {
        "trusted": true,
        "id": "kW7CnWYt-HsI"
      },
      "source": [
        "# Remove quotes\n",
        "lines['Yoruba']=lines['Yoruba'].apply(lambda x: re.sub(\"'\", '', x))\n",
        "lines['English']=lines['English'].apply(lambda x: re.sub(\"'\", '', x))"
      ],
      "execution_count": null,
      "outputs": []
    },
    {
      "cell_type": "code",
      "metadata": {
        "trusted": true,
        "id": "Q0SgFARD-HsJ"
      },
      "source": [
        "exclude = set(string.punctuation) # Set of all special characters\n",
        "# Remove all the special characters\n",
        "lines['Yoruba']=lines['Yoruba'].apply(lambda x: ''.join(ch for ch in x if ch not in exclude))\n",
        "lines['English']=lines['English'].apply(lambda x: ''.join(ch for ch in x if ch not in exclude))"
      ],
      "execution_count": null,
      "outputs": []
    },
    {
      "cell_type": "code",
      "metadata": {
        "trusted": true,
        "id": "4lHIaRQf-HsJ"
      },
      "source": [
        "# Remove all numbers from text\n",
        "remove_digits = str.maketrans('', '', digits)\n",
        "lines['Yoruba']=lines['Yoruba'].apply(lambda x: x.translate(remove_digits))\n",
        "lines['English']=lines['English'].apply(lambda x: x.translate(remove_digits))\n",
        "\n",
        "lines['English'] = lines['English'].apply(lambda x: re.sub(\"[२३०८१५७९४६]\", \"\", x))\n",
        "\n",
        "# Remove extra spaces\n",
        "lines['Yoruba']=lines['Yoruba'].apply(lambda x: x.strip())\n",
        "lines['English']=lines['English'].apply(lambda x: x.strip())\n",
        "lines['Yoruba']=lines['Yoruba'].apply(lambda x: re.sub(\" +\", \" \", x))\n",
        "lines['English']=lines['English'].apply(lambda x: re.sub(\" +\", \" \", x))\n"
      ],
      "execution_count": null,
      "outputs": []
    },
    {
      "cell_type": "code",
      "metadata": {
        "trusted": true,
        "id": "spWGGO5b-HsK"
      },
      "source": [
        "# Add start and end tokens to target sequences\n",
        "lines['English'] = lines['English'].apply(lambda x : 'START_ '+ x + ' _END')"
      ],
      "execution_count": null,
      "outputs": []
    },
    {
      "cell_type": "code",
      "metadata": {
        "trusted": true,
        "id": "S1SWozfj-HsK",
        "outputId": "13683cfb-7b81-40af-f3b8-68c091d5b6c9"
      },
      "source": [
        "lines.head()"
      ],
      "execution_count": null,
      "outputs": [
        {
          "output_type": "execute_result",
          "data": {
            "text/plain": [
              "            ID                                                                                                                                                                                                        Yoruba                                                                                                                                                               English\n",
              "0  ID_AAJEQLCz  a ṣètò ìgbìmọ̀ tó ń ṣètò ìrànwọ́ nígbà àjálù láti wá bí àwọn ará wa níbẹ̀ ṣe máa rí àwọn nǹkan tí wọ́n máa nílò lọ́jọ́ iwájú                                                                                  START_ a disaster relief committee was formed to organize the longterm relief efforts _END                                                                          \n",
              "1  ID_AASNedba  ìrọ̀lẹ́ may ni wọ́n fàṣẹ ọba mú arákùnrin solovyev ní ibùdókọ̀ ojú irin nígbà tí òun àti anna ìyàwó rẹ̀ ń bọ̀ láti ìrìnàjò tí wọ́n lọ lórílẹ̀èdè míì                                                          START_ brother solovyev was arrested on the evening of may at a railway station as he was arriving home from a trip abroad with his wife anna _END                  \n",
              "2  ID_AAeQrhMq  iléeṣẹ́ creative commons náà                                                                                                                                                                                  START_ creative commons the organization _END                                                                                                                       \n",
              "3  ID_AAxlMgPP  pè̩lú egypt morocco àti tunisia tí wó̩n ti lo̩lé senegal nìkan lorílè̩èdè adúláwò̩ kan tó kù wo̩n á fe̩sè̩wo̩nsè̩ pè̩lú colombia ni ìfe̩sè̩wo̩nsè̩ tó ké̩yìn ikò̩ h ló̩jó̩bò̩                                 START_ with egypt morocco and tunisia out of the world cup senegal the only african nation left will take on columbia in their last group h game on thursday _END   \n",
              "4  ID_ABKuMKSx  adájọ́ àgbà lórílẹ̀ èdè náíjíríà attorney general of the federation justice abubakar malami ti pàsẹ fún iléisẹ́ ọ̀tẹlẹ̀múyẹ́ department of state services dss láti jáwọ́ lórí ẹ̀sun omoyẹle sowore ní kíákíá  START_ the attorney general of the federation justice abubakar malami has ordered the department of state services dss to hands off the trial of omoyele sowore _END"
            ],
            "text/html": [
              "<div>\n",
              "<style scoped>\n",
              "    .dataframe tbody tr th:only-of-type {\n",
              "        vertical-align: middle;\n",
              "    }\n",
              "\n",
              "    .dataframe tbody tr th {\n",
              "        vertical-align: top;\n",
              "    }\n",
              "\n",
              "    .dataframe thead th {\n",
              "        text-align: right;\n",
              "    }\n",
              "</style>\n",
              "<table border=\"1\" class=\"dataframe\">\n",
              "  <thead>\n",
              "    <tr style=\"text-align: right;\">\n",
              "      <th></th>\n",
              "      <th>ID</th>\n",
              "      <th>Yoruba</th>\n",
              "      <th>English</th>\n",
              "    </tr>\n",
              "  </thead>\n",
              "  <tbody>\n",
              "    <tr>\n",
              "      <th>0</th>\n",
              "      <td>ID_AAJEQLCz</td>\n",
              "      <td>a ṣètò ìgbìmọ̀ tó ń ṣètò ìrànwọ́ nígbà àjálù láti wá bí àwọn ará wa níbẹ̀ ṣe máa rí àwọn nǹkan tí wọ́n máa nílò lọ́jọ́ iwájú</td>\n",
              "      <td>START_ a disaster relief committee was formed to organize the longterm relief efforts _END</td>\n",
              "    </tr>\n",
              "    <tr>\n",
              "      <th>1</th>\n",
              "      <td>ID_AASNedba</td>\n",
              "      <td>ìrọ̀lẹ́ may ni wọ́n fàṣẹ ọba mú arákùnrin solovyev ní ibùdókọ̀ ojú irin nígbà tí òun àti anna ìyàwó rẹ̀ ń bọ̀ láti ìrìnàjò tí wọ́n lọ lórílẹ̀èdè míì</td>\n",
              "      <td>START_ brother solovyev was arrested on the evening of may at a railway station as he was arriving home from a trip abroad with his wife anna _END</td>\n",
              "    </tr>\n",
              "    <tr>\n",
              "      <th>2</th>\n",
              "      <td>ID_AAeQrhMq</td>\n",
              "      <td>iléeṣẹ́ creative commons náà</td>\n",
              "      <td>START_ creative commons the organization _END</td>\n",
              "    </tr>\n",
              "    <tr>\n",
              "      <th>3</th>\n",
              "      <td>ID_AAxlMgPP</td>\n",
              "      <td>pè̩lú egypt morocco àti tunisia tí wó̩n ti lo̩lé senegal nìkan lorílè̩èdè adúláwò̩ kan tó kù wo̩n á fe̩sè̩wo̩nsè̩ pè̩lú colombia ni ìfe̩sè̩wo̩nsè̩ tó ké̩yìn ikò̩ h ló̩jó̩bò̩</td>\n",
              "      <td>START_ with egypt morocco and tunisia out of the world cup senegal the only african nation left will take on columbia in their last group h game on thursday _END</td>\n",
              "    </tr>\n",
              "    <tr>\n",
              "      <th>4</th>\n",
              "      <td>ID_ABKuMKSx</td>\n",
              "      <td>adájọ́ àgbà lórílẹ̀ èdè náíjíríà attorney general of the federation justice abubakar malami ti pàsẹ fún iléisẹ́ ọ̀tẹlẹ̀múyẹ́ department of state services dss láti jáwọ́ lórí ẹ̀sun omoyẹle sowore ní kíákíá</td>\n",
              "      <td>START_ the attorney general of the federation justice abubakar malami has ordered the department of state services dss to hands off the trial of omoyele sowore _END</td>\n",
              "    </tr>\n",
              "  </tbody>\n",
              "</table>\n",
              "</div>"
            ]
          },
          "metadata": {
            "tags": []
          },
          "execution_count": 14
        }
      ]
    },
    {
      "cell_type": "code",
      "metadata": {
        "trusted": true,
        "id": "qmuYrLYw-HsK"
      },
      "source": [
        "### Get English and Yoruba Vocabulary\n",
        "all_Yoruba_words=set()\n",
        "for eng in lines['Yoruba']:\n",
        "    for word in eng.split():\n",
        "        if word not in all_Yoruba_words:\n",
        "            all_Yoruba_words.add(word)\n",
        "\n",
        "all_Eng_words=set()\n",
        "for hin in lines['English']:\n",
        "    for word in hin.split():\n",
        "        if word not in all_Eng_words:\n",
        "            all_Eng_words.add(word)"
      ],
      "execution_count": null,
      "outputs": []
    },
    {
      "cell_type": "code",
      "metadata": {
        "trusted": true,
        "id": "sFseu4Sg-HsL",
        "outputId": "d1cca433-ac7a-4078-e1a7-f8f5a343dbab"
      },
      "source": [
        "len(all_Eng_words)"
      ],
      "execution_count": null,
      "outputs": [
        {
          "output_type": "execute_result",
          "data": {
            "text/plain": [
              "16319"
            ]
          },
          "metadata": {
            "tags": []
          },
          "execution_count": 16
        }
      ]
    },
    {
      "cell_type": "code",
      "metadata": {
        "trusted": true,
        "id": "fdp_DcbR-HsL",
        "outputId": "5d434535-8451-485b-ccc8-d905defda0bf"
      },
      "source": [
        "len(all_Yoruba_words)"
      ],
      "execution_count": null,
      "outputs": [
        {
          "output_type": "execute_result",
          "data": {
            "text/plain": [
              "15790"
            ]
          },
          "metadata": {
            "tags": []
          },
          "execution_count": 17
        }
      ]
    },
    {
      "cell_type": "code",
      "metadata": {
        "trusted": true,
        "id": "r7rwNzL6-HsM"
      },
      "source": [
        "lines['length_Yoruba_sentence']=lines['Yoruba'].apply(lambda x:len(x.split(\" \")))\n",
        "lines['length_English_sentence']=lines['English'].apply(lambda x:len(x.split(\" \")))"
      ],
      "execution_count": null,
      "outputs": []
    },
    {
      "cell_type": "code",
      "metadata": {
        "trusted": true,
        "id": "yXQ2GxZ7-HsM",
        "outputId": "5050fba3-56ea-4ebb-f2f4-632530292f7a"
      },
      "source": [
        "lines.head()"
      ],
      "execution_count": null,
      "outputs": [
        {
          "output_type": "execute_result",
          "data": {
            "text/plain": [
              "            ID                                                                                                                                                                                                        Yoruba                                                                                                                                                               English  length_Yoruba_sentence  length_English_sentence\n",
              "0  ID_AAJEQLCz  a ṣètò ìgbìmọ̀ tó ń ṣètò ìrànwọ́ nígbà àjálù láti wá bí àwọn ará wa níbẹ̀ ṣe máa rí àwọn nǹkan tí wọ́n máa nílò lọ́jọ́ iwájú                                                                                  START_ a disaster relief committee was formed to organize the longterm relief efforts _END                                                                            27                      14                     \n",
              "1  ID_AASNedba  ìrọ̀lẹ́ may ni wọ́n fàṣẹ ọba mú arákùnrin solovyev ní ibùdókọ̀ ojú irin nígbà tí òun àti anna ìyàwó rẹ̀ ń bọ̀ láti ìrìnàjò tí wọ́n lọ lórílẹ̀èdè míì                                                          START_ brother solovyev was arrested on the evening of may at a railway station as he was arriving home from a trip abroad with his wife anna _END                    29                      28                     \n",
              "2  ID_AAeQrhMq  iléeṣẹ́ creative commons náà                                                                                                                                                                                  START_ creative commons the organization _END                                                                                                                         4                       6                      \n",
              "3  ID_AAxlMgPP  pè̩lú egypt morocco àti tunisia tí wó̩n ti lo̩lé senegal nìkan lorílè̩èdè adúláwò̩ kan tó kù wo̩n á fe̩sè̩wo̩nsè̩ pè̩lú colombia ni ìfe̩sè̩wo̩nsè̩ tó ké̩yìn ikò̩ h ló̩jó̩bò̩                                 START_ with egypt morocco and tunisia out of the world cup senegal the only african nation left will take on columbia in their last group h game on thursday _END     28                      30                     \n",
              "4  ID_ABKuMKSx  adájọ́ àgbà lórílẹ̀ èdè náíjíríà attorney general of the federation justice abubakar malami ti pàsẹ fún iléisẹ́ ọ̀tẹlẹ̀múyẹ́ department of state services dss láti jáwọ́ lórí ẹ̀sun omoyẹle sowore ní kíákíá  START_ the attorney general of the federation justice abubakar malami has ordered the department of state services dss to hands off the trial of omoyele sowore _END  31                      27                     "
            ],
            "text/html": [
              "<div>\n",
              "<style scoped>\n",
              "    .dataframe tbody tr th:only-of-type {\n",
              "        vertical-align: middle;\n",
              "    }\n",
              "\n",
              "    .dataframe tbody tr th {\n",
              "        vertical-align: top;\n",
              "    }\n",
              "\n",
              "    .dataframe thead th {\n",
              "        text-align: right;\n",
              "    }\n",
              "</style>\n",
              "<table border=\"1\" class=\"dataframe\">\n",
              "  <thead>\n",
              "    <tr style=\"text-align: right;\">\n",
              "      <th></th>\n",
              "      <th>ID</th>\n",
              "      <th>Yoruba</th>\n",
              "      <th>English</th>\n",
              "      <th>length_Yoruba_sentence</th>\n",
              "      <th>length_English_sentence</th>\n",
              "    </tr>\n",
              "  </thead>\n",
              "  <tbody>\n",
              "    <tr>\n",
              "      <th>0</th>\n",
              "      <td>ID_AAJEQLCz</td>\n",
              "      <td>a ṣètò ìgbìmọ̀ tó ń ṣètò ìrànwọ́ nígbà àjálù láti wá bí àwọn ará wa níbẹ̀ ṣe máa rí àwọn nǹkan tí wọ́n máa nílò lọ́jọ́ iwájú</td>\n",
              "      <td>START_ a disaster relief committee was formed to organize the longterm relief efforts _END</td>\n",
              "      <td>27</td>\n",
              "      <td>14</td>\n",
              "    </tr>\n",
              "    <tr>\n",
              "      <th>1</th>\n",
              "      <td>ID_AASNedba</td>\n",
              "      <td>ìrọ̀lẹ́ may ni wọ́n fàṣẹ ọba mú arákùnrin solovyev ní ibùdókọ̀ ojú irin nígbà tí òun àti anna ìyàwó rẹ̀ ń bọ̀ láti ìrìnàjò tí wọ́n lọ lórílẹ̀èdè míì</td>\n",
              "      <td>START_ brother solovyev was arrested on the evening of may at a railway station as he was arriving home from a trip abroad with his wife anna _END</td>\n",
              "      <td>29</td>\n",
              "      <td>28</td>\n",
              "    </tr>\n",
              "    <tr>\n",
              "      <th>2</th>\n",
              "      <td>ID_AAeQrhMq</td>\n",
              "      <td>iléeṣẹ́ creative commons náà</td>\n",
              "      <td>START_ creative commons the organization _END</td>\n",
              "      <td>4</td>\n",
              "      <td>6</td>\n",
              "    </tr>\n",
              "    <tr>\n",
              "      <th>3</th>\n",
              "      <td>ID_AAxlMgPP</td>\n",
              "      <td>pè̩lú egypt morocco àti tunisia tí wó̩n ti lo̩lé senegal nìkan lorílè̩èdè adúláwò̩ kan tó kù wo̩n á fe̩sè̩wo̩nsè̩ pè̩lú colombia ni ìfe̩sè̩wo̩nsè̩ tó ké̩yìn ikò̩ h ló̩jó̩bò̩</td>\n",
              "      <td>START_ with egypt morocco and tunisia out of the world cup senegal the only african nation left will take on columbia in their last group h game on thursday _END</td>\n",
              "      <td>28</td>\n",
              "      <td>30</td>\n",
              "    </tr>\n",
              "    <tr>\n",
              "      <th>4</th>\n",
              "      <td>ID_ABKuMKSx</td>\n",
              "      <td>adájọ́ àgbà lórílẹ̀ èdè náíjíríà attorney general of the federation justice abubakar malami ti pàsẹ fún iléisẹ́ ọ̀tẹlẹ̀múyẹ́ department of state services dss láti jáwọ́ lórí ẹ̀sun omoyẹle sowore ní kíákíá</td>\n",
              "      <td>START_ the attorney general of the federation justice abubakar malami has ordered the department of state services dss to hands off the trial of omoyele sowore _END</td>\n",
              "      <td>31</td>\n",
              "      <td>27</td>\n",
              "    </tr>\n",
              "  </tbody>\n",
              "</table>\n",
              "</div>"
            ]
          },
          "metadata": {
            "tags": []
          },
          "execution_count": 19
        }
      ]
    },
    {
      "cell_type": "code",
      "metadata": {
        "trusted": true,
        "id": "99B93vQT-HsM",
        "outputId": "8482187c-1ef7-4e1a-dbfe-a3ad1be02627"
      },
      "source": [
        "lines[lines['length_Yoruba_sentence']>90].shape"
      ],
      "execution_count": null,
      "outputs": [
        {
          "output_type": "execute_result",
          "data": {
            "text/plain": [
              "(19, 5)"
            ]
          },
          "metadata": {
            "tags": []
          },
          "execution_count": 20
        }
      ]
    },
    {
      "cell_type": "code",
      "metadata": {
        "trusted": true,
        "id": "BKDVqdJu-HsN",
        "outputId": "e92fa709-bd01-43b9-c195-589ba220e276"
      },
      "source": [
        "lines[lines['length_English_sentence']>90].shape"
      ],
      "execution_count": null,
      "outputs": [
        {
          "output_type": "execute_result",
          "data": {
            "text/plain": [
              "(7, 5)"
            ]
          },
          "metadata": {
            "tags": []
          },
          "execution_count": 21
        }
      ]
    },
    {
      "cell_type": "code",
      "metadata": {
        "trusted": true,
        "id": "WV7jnZwl-HsN"
      },
      "source": [
        "#lines=lines[lines['length_Yoruba_sentence']<=20]\n",
        "#lines=lines[lines['length_English_sentence']<=20]"
      ],
      "execution_count": null,
      "outputs": []
    },
    {
      "cell_type": "code",
      "metadata": {
        "trusted": true,
        "id": "jgCEGHfZ-HsN",
        "outputId": "5b7b5a4b-a91b-4008-b176-461b8d48cbc1"
      },
      "source": [
        "lines.shape"
      ],
      "execution_count": null,
      "outputs": [
        {
          "output_type": "execute_result",
          "data": {
            "text/plain": [
              "(10054, 5)"
            ]
          },
          "metadata": {
            "tags": []
          },
          "execution_count": 23
        }
      ]
    },
    {
      "cell_type": "code",
      "metadata": {
        "trusted": true,
        "id": "hCo9NwTC-HsN",
        "outputId": "e781a685-8445-4df1-f9b3-c611b853378d"
      },
      "source": [
        "print(\"maximum length of Yoruba Sentence \",max(lines['length_Yoruba_sentence']))\n",
        "print(\"maximum length of English Sentence \",max(lines['length_English_sentence']))"
      ],
      "execution_count": null,
      "outputs": [
        {
          "output_type": "stream",
          "text": [
            "maximum length of Yoruba Sentence  218\n",
            "maximum length of English Sentence  160\n"
          ],
          "name": "stdout"
        }
      ]
    },
    {
      "cell_type": "code",
      "metadata": {
        "trusted": true,
        "id": "QQ5noPcU-HsO"
      },
      "source": [
        "max_length_src=max(lines['length_Yoruba_sentence'])\n",
        "max_length_tar=max(lines['length_English_sentence'])"
      ],
      "execution_count": null,
      "outputs": []
    },
    {
      "cell_type": "code",
      "metadata": {
        "trusted": true,
        "id": "-QiTQ-fs-HsO",
        "outputId": "2b7cb7a2-000c-4abe-d877-4205f048c276"
      },
      "source": [
        "input_words = sorted(list(all_Yoruba_words))\n",
        "target_words = sorted(list(all_Eng_words))\n",
        "num_encoder_tokens = len(all_Yoruba_words)\n",
        "num_decoder_tokens = len(all_Eng_words)\n",
        "num_encoder_tokens, num_decoder_tokens"
      ],
      "execution_count": null,
      "outputs": [
        {
          "output_type": "execute_result",
          "data": {
            "text/plain": [
              "(15790, 16319)"
            ]
          },
          "metadata": {
            "tags": []
          },
          "execution_count": 26
        }
      ]
    },
    {
      "cell_type": "code",
      "metadata": {
        "trusted": true,
        "id": "EPVcgDLj-HsO"
      },
      "source": [
        "num_decoder_tokens += 1 #for zero padding\n"
      ],
      "execution_count": null,
      "outputs": []
    },
    {
      "cell_type": "code",
      "metadata": {
        "trusted": true,
        "id": "NEoV2Ia8-HsP"
      },
      "source": [
        "input_token_index = dict([(word, i+1) for i, word in enumerate(input_words)])\n",
        "target_token_index = dict([(word, i+1) for i, word in enumerate(target_words)])"
      ],
      "execution_count": null,
      "outputs": []
    },
    {
      "cell_type": "code",
      "metadata": {
        "trusted": true,
        "id": "B6i7h7Qj-HsP"
      },
      "source": [
        "reverse_input_char_index = dict((i, word) for word, i in input_token_index.items())\n",
        "reverse_target_char_index = dict((i, word) for word, i in target_token_index.items())"
      ],
      "execution_count": null,
      "outputs": []
    },
    {
      "cell_type": "code",
      "metadata": {
        "trusted": true,
        "id": "bsWHIQmg-HsP",
        "outputId": "05eee208-5a6b-4b0b-ff19-84f588893f16"
      },
      "source": [
        "lines = shuffle(lines)\n",
        "lines.head(10)"
      ],
      "execution_count": null,
      "outputs": [
        {
          "output_type": "execute_result",
          "data": {
            "text/plain": [
              "               ID                                                                                                                                                                         Yoruba                                                                                                                                                                                                                                      English  length_Yoruba_sentence  length_English_sentence\n",
              "3653  ID_SgHlxEUX  mínísítà ti adelé akọ̀wé àgbà fún ilé ìwòsàn alábọ́dé sojú rẹ̀ iwot ndaeyo dúpẹ́ lọ́wọ́ àwọn òbí fún ìtọ́jú ọmọ wọn nígbà tí ó sì ń tẹnumọ pé ẹ̀bùn láti ọ̀dọ̀ ọlọ́run ni ọmọ  START_ the minister who was represented by the acting executive secretary of primary health care centre dr iwot ndaeyo also tasked mothers on early training of their children just as she emphasised that children are gifts from god _END  34                      39                     \n",
              "9048  ID_ujKtKygz  “wá jẹun” “n ò jẹ” ó fọgọ́rùnún òkèlè tọ́ ọbẹ̀ wò                                                                                                                              START_ “come join me at my meal” “thank you but no” still he eats a hundred mouthfuls just to taste the stew _END                                                                                                                            11                      23                     \n",
              "4761  ID_YaZZBLBL  ọmọrí odó pani lọ́tọ̀ ká tó wí pé ká kùn ún lóògùn                                                                                                                             START_ a pestle is a lethal weapon in itself let alone after rubbing poison on it _END                                                                                                                                                       12                      17                     \n",
              "891   ID_EZwhUnkR  ó fẹ́rẹ̀ẹ́ jẹ́ pé gbogbo iṣẹ́ abẹ inú ẹ̀dọ̀ títí kan iṣẹ́ abẹ tá a fi ń pààrọ̀ ẹ̀dọ̀ là ń ṣe láìsí pé wọ́n fa ẹ̀jẹ̀ síni lára                                                  START_ the vast majority of our liver surgeries even transplants are performed entirely without the use of blood _END                                                                                                                        29                      19                     \n",
              "4071  ID_UnrHdrBJ  “bá mi mádìẹ” kì í fi orúnkún bó                                                                                                                                               START_ “help me catch a chicken” does not scrape his knees _END                                                                                                                                                                              8                       12                     \n",
              "9920  ID_zUIYVBnL  wọ́n tún ti fọwọ́ sí i pé kó máa ṣèbẹ̀wò sọ́dọ̀ dennis ní ọgbà ẹ̀wọ̀n                                                                                                          START_ approval has also been granted for her to visit him at the prison _END                                                                                                                                                                15                      15                     \n",
              "4039  ID_UiBZHVSc  tó dára bí i ti màmá ẹ                                                                                                                                                         START_ that is as good as your mom _END                                                                                                                                                                                                      7                       9                      \n",
              "821   ID_EJDLglZL  ní lọ́wọ́lọ́wọ́ báyìí àwa ẹlẹ́rìí jèhófà ti mú bíbélì ìtumọ̀ ayé tuntun jáde lódindi tàbí lápá kan ní èdè mọ́kàndínlọ́gọ́sànán                                                 START_ to date jehovah’s witnesses have made the new world translation available in whole or in part in languages _END                                                                                                                       20                      20                     \n",
              "9809  ID_yvwpcgOY  obìnrinín pẹ́ lọ́jà ó fìgbójú wọlé                                                                                                                                             START_ a woman tarried too long at the market and returns home with a brazen face _END                                                                                                                                                       6                       17                     \n",
              "5363  ID_bgidxYYC  olóyè kalẹ̀jayé ní ó wá jẹ́ ohun ìyàlẹ́nu pe ìyókùn nínú ilẹ̀ náà ni àwọn ọmọ asùnta ti wá sọ ibẹ̀ di ibùgbé                                                                   START_ chief kalejaiye explained that he was surprised that the rest of the land was occupied by hoodlums with construction of shanties on the land _END                                                                                     23                      26                     "
            ],
            "text/html": [
              "<div>\n",
              "<style scoped>\n",
              "    .dataframe tbody tr th:only-of-type {\n",
              "        vertical-align: middle;\n",
              "    }\n",
              "\n",
              "    .dataframe tbody tr th {\n",
              "        vertical-align: top;\n",
              "    }\n",
              "\n",
              "    .dataframe thead th {\n",
              "        text-align: right;\n",
              "    }\n",
              "</style>\n",
              "<table border=\"1\" class=\"dataframe\">\n",
              "  <thead>\n",
              "    <tr style=\"text-align: right;\">\n",
              "      <th></th>\n",
              "      <th>ID</th>\n",
              "      <th>Yoruba</th>\n",
              "      <th>English</th>\n",
              "      <th>length_Yoruba_sentence</th>\n",
              "      <th>length_English_sentence</th>\n",
              "    </tr>\n",
              "  </thead>\n",
              "  <tbody>\n",
              "    <tr>\n",
              "      <th>3653</th>\n",
              "      <td>ID_SgHlxEUX</td>\n",
              "      <td>mínísítà ti adelé akọ̀wé àgbà fún ilé ìwòsàn alábọ́dé sojú rẹ̀ iwot ndaeyo dúpẹ́ lọ́wọ́ àwọn òbí fún ìtọ́jú ọmọ wọn nígbà tí ó sì ń tẹnumọ pé ẹ̀bùn láti ọ̀dọ̀ ọlọ́run ni ọmọ</td>\n",
              "      <td>START_ the minister who was represented by the acting executive secretary of primary health care centre dr iwot ndaeyo also tasked mothers on early training of their children just as she emphasised that children are gifts from god _END</td>\n",
              "      <td>34</td>\n",
              "      <td>39</td>\n",
              "    </tr>\n",
              "    <tr>\n",
              "      <th>9048</th>\n",
              "      <td>ID_ujKtKygz</td>\n",
              "      <td>“wá jẹun” “n ò jẹ” ó fọgọ́rùnún òkèlè tọ́ ọbẹ̀ wò</td>\n",
              "      <td>START_ “come join me at my meal” “thank you but no” still he eats a hundred mouthfuls just to taste the stew _END</td>\n",
              "      <td>11</td>\n",
              "      <td>23</td>\n",
              "    </tr>\n",
              "    <tr>\n",
              "      <th>4761</th>\n",
              "      <td>ID_YaZZBLBL</td>\n",
              "      <td>ọmọrí odó pani lọ́tọ̀ ká tó wí pé ká kùn ún lóògùn</td>\n",
              "      <td>START_ a pestle is a lethal weapon in itself let alone after rubbing poison on it _END</td>\n",
              "      <td>12</td>\n",
              "      <td>17</td>\n",
              "    </tr>\n",
              "    <tr>\n",
              "      <th>891</th>\n",
              "      <td>ID_EZwhUnkR</td>\n",
              "      <td>ó fẹ́rẹ̀ẹ́ jẹ́ pé gbogbo iṣẹ́ abẹ inú ẹ̀dọ̀ títí kan iṣẹ́ abẹ tá a fi ń pààrọ̀ ẹ̀dọ̀ là ń ṣe láìsí pé wọ́n fa ẹ̀jẹ̀ síni lára</td>\n",
              "      <td>START_ the vast majority of our liver surgeries even transplants are performed entirely without the use of blood _END</td>\n",
              "      <td>29</td>\n",
              "      <td>19</td>\n",
              "    </tr>\n",
              "    <tr>\n",
              "      <th>4071</th>\n",
              "      <td>ID_UnrHdrBJ</td>\n",
              "      <td>“bá mi mádìẹ” kì í fi orúnkún bó</td>\n",
              "      <td>START_ “help me catch a chicken” does not scrape his knees _END</td>\n",
              "      <td>8</td>\n",
              "      <td>12</td>\n",
              "    </tr>\n",
              "    <tr>\n",
              "      <th>9920</th>\n",
              "      <td>ID_zUIYVBnL</td>\n",
              "      <td>wọ́n tún ti fọwọ́ sí i pé kó máa ṣèbẹ̀wò sọ́dọ̀ dennis ní ọgbà ẹ̀wọ̀n</td>\n",
              "      <td>START_ approval has also been granted for her to visit him at the prison _END</td>\n",
              "      <td>15</td>\n",
              "      <td>15</td>\n",
              "    </tr>\n",
              "    <tr>\n",
              "      <th>4039</th>\n",
              "      <td>ID_UiBZHVSc</td>\n",
              "      <td>tó dára bí i ti màmá ẹ</td>\n",
              "      <td>START_ that is as good as your mom _END</td>\n",
              "      <td>7</td>\n",
              "      <td>9</td>\n",
              "    </tr>\n",
              "    <tr>\n",
              "      <th>821</th>\n",
              "      <td>ID_EJDLglZL</td>\n",
              "      <td>ní lọ́wọ́lọ́wọ́ báyìí àwa ẹlẹ́rìí jèhófà ti mú bíbélì ìtumọ̀ ayé tuntun jáde lódindi tàbí lápá kan ní èdè mọ́kàndínlọ́gọ́sànán</td>\n",
              "      <td>START_ to date jehovah’s witnesses have made the new world translation available in whole or in part in languages _END</td>\n",
              "      <td>20</td>\n",
              "      <td>20</td>\n",
              "    </tr>\n",
              "    <tr>\n",
              "      <th>9809</th>\n",
              "      <td>ID_yvwpcgOY</td>\n",
              "      <td>obìnrinín pẹ́ lọ́jà ó fìgbójú wọlé</td>\n",
              "      <td>START_ a woman tarried too long at the market and returns home with a brazen face _END</td>\n",
              "      <td>6</td>\n",
              "      <td>17</td>\n",
              "    </tr>\n",
              "    <tr>\n",
              "      <th>5363</th>\n",
              "      <td>ID_bgidxYYC</td>\n",
              "      <td>olóyè kalẹ̀jayé ní ó wá jẹ́ ohun ìyàlẹ́nu pe ìyókùn nínú ilẹ̀ náà ni àwọn ọmọ asùnta ti wá sọ ibẹ̀ di ibùgbé</td>\n",
              "      <td>START_ chief kalejaiye explained that he was surprised that the rest of the land was occupied by hoodlums with construction of shanties on the land _END</td>\n",
              "      <td>23</td>\n",
              "      <td>26</td>\n",
              "    </tr>\n",
              "  </tbody>\n",
              "</table>\n",
              "</div>"
            ]
          },
          "metadata": {
            "tags": []
          },
          "execution_count": 30
        }
      ]
    },
    {
      "cell_type": "markdown",
      "metadata": {
        "id": "hwcCUtqx-HsQ"
      },
      "source": [
        "### Split the data into train and test"
      ]
    },
    {
      "cell_type": "code",
      "metadata": {
        "trusted": true,
        "id": "FmzUExkE-HsQ",
        "outputId": "4abe89f7-687c-4f43-a699-ecb33b02d2f9"
      },
      "source": [
        "X, y = lines['Yoruba'], lines['English']\n",
        "X_train, X_test, y_train, y_test = train_test_split(X, y, test_size = 0.1,random_state=42)\n",
        "X_train.shape, X_test.shape"
      ],
      "execution_count": null,
      "outputs": [
        {
          "output_type": "execute_result",
          "data": {
            "text/plain": [
              "((9048,), (1006,))"
            ]
          },
          "metadata": {
            "tags": []
          },
          "execution_count": 31
        }
      ]
    },
    {
      "cell_type": "code",
      "metadata": {
        "trusted": true,
        "id": "9fHV8HED-HsQ",
        "outputId": "967b61f7-eb69-41bc-8313-6076340f58ca"
      },
      "source": [
        "test=pd.read_csv('../input/zinditraduction/Test (10).csv')\n",
        "len(test)"
      ],
      "execution_count": null,
      "outputs": [
        {
          "output_type": "execute_result",
          "data": {
            "text/plain": [
              "6816"
            ]
          },
          "metadata": {
            "tags": []
          },
          "execution_count": 32
        }
      ]
    },
    {
      "cell_type": "markdown",
      "metadata": {
        "id": "-7D-IKmh-HsQ"
      },
      "source": [
        "### Let us save this data"
      ]
    },
    {
      "cell_type": "code",
      "metadata": {
        "trusted": true,
        "id": "smN3S6f_-HsR"
      },
      "source": [
        "X_train.to_pickle('X_train.pkl')\n",
        "X_test.to_pickle('X_test.pkl')\n"
      ],
      "execution_count": null,
      "outputs": []
    },
    {
      "cell_type": "code",
      "metadata": {
        "trusted": true,
        "id": "Vo0lV3pU-HsR"
      },
      "source": [
        "def generate_batch(X = X_train, y = y_train, batch_size = 128):\n",
        "    ''' Generate a batch of data '''\n",
        "    while True:\n",
        "        for j in range(0, len(X), batch_size):\n",
        "            encoder_input_data = np.zeros((batch_size, max_length_src),dtype='float32')\n",
        "            decoder_input_data = np.zeros((batch_size, max_length_tar),dtype='float32')\n",
        "            decoder_target_data = np.zeros((batch_size, max_length_tar, num_decoder_tokens),dtype='float32')\n",
        "            for i, (input_text, target_text) in enumerate(zip(X[j:j+batch_size], y[j:j+batch_size])):\n",
        "                for t, word in enumerate(input_text.split()):\n",
        "                    encoder_input_data[i, t] = input_token_index[word] # encoder input seq\n",
        "                for t, word in enumerate(target_text.split()):\n",
        "                    if t<len(target_text.split())-1:\n",
        "                        decoder_input_data[i, t] = target_token_index[word] # decoder input seq\n",
        "                    if t>0:\n",
        "                        # decoder target sequence (one hot encoded)\n",
        "                        # does not include the START_ token\n",
        "                        # Offset by one timestep\n",
        "                        decoder_target_data[i, t - 1, target_token_index[word]] = 1.\n",
        "            yield([encoder_input_data, decoder_input_data], decoder_target_data)"
      ],
      "execution_count": null,
      "outputs": []
    },
    {
      "cell_type": "markdown",
      "metadata": {
        "id": "DdhdtBXo-HsR"
      },
      "source": [
        "### Encoder-Decoder Architecture"
      ]
    },
    {
      "cell_type": "code",
      "metadata": {
        "trusted": true,
        "id": "0Pq8jRCy-HsS"
      },
      "source": [
        "latent_dim=300"
      ],
      "execution_count": null,
      "outputs": []
    },
    {
      "cell_type": "code",
      "metadata": {
        "trusted": true,
        "id": "LksKmq6T-HsS",
        "outputId": "d16821a2-4d2f-44a2-afaa-132f6e69d12b"
      },
      "source": [
        "# Encoder\n",
        "encoder_inputs = Input(shape=(None,))\n",
        "enc_emb =  Embedding(num_encoder_tokens, latent_dim, mask_zero = True)(encoder_inputs)\n",
        "encoder_lstm = LSTM(latent_dim, return_state=True)\n",
        "encoder_outputs, state_h, state_c = encoder_lstm(enc_emb)\n",
        "# We discard `encoder_outputs` and only keep the states.\n",
        "encoder_states = [state_h, state_c]"
      ],
      "execution_count": null,
      "outputs": [
        {
          "output_type": "stream",
          "text": [
            "WARNING:tensorflow:From /opt/conda/lib/python3.6/site-packages/tensorflow/python/framework/op_def_library.py:263: colocate_with (from tensorflow.python.framework.ops) is deprecated and will be removed in a future version.\n",
            "Instructions for updating:\n",
            "Colocations handled automatically by placer.\n"
          ],
          "name": "stdout"
        }
      ]
    },
    {
      "cell_type": "code",
      "metadata": {
        "trusted": true,
        "id": "0UM-NXqD-HsT"
      },
      "source": [
        "# Set up the decoder, using `encoder_states` as initial state.\n",
        "decoder_inputs = Input(shape=(None,))\n",
        "dec_emb_layer = Embedding(num_decoder_tokens, latent_dim, mask_zero = True)\n",
        "dec_emb = dec_emb_layer(decoder_inputs)\n",
        "# We set up our decoder to return full output sequences,\n",
        "# and to return internal states as well. We don't use the\n",
        "# return states in the training model, but we will use them in inference.\n",
        "decoder_lstm = LSTM(latent_dim, return_sequences=True, return_state=True)\n",
        "decoder_outputs, _, _ = decoder_lstm(dec_emb,\n",
        "                                     initial_state=encoder_states)\n",
        "decoder_dense = Dense(num_decoder_tokens, activation='softmax')\n",
        "decoder_outputs = decoder_dense(decoder_outputs)\n",
        "\n",
        "# Define the model that will turn\n",
        "# `encoder_input_data` & `decoder_input_data` into `decoder_target_data`\n",
        "model = Model([encoder_inputs, decoder_inputs], decoder_outputs)"
      ],
      "execution_count": null,
      "outputs": []
    },
    {
      "cell_type": "code",
      "metadata": {
        "trusted": true,
        "id": "61QPwToY-HsT"
      },
      "source": [
        "model.compile(optimizer='rmsprop', loss='categorical_crossentropy')"
      ],
      "execution_count": null,
      "outputs": []
    },
    {
      "cell_type": "code",
      "metadata": {
        "trusted": true,
        "id": "XABP8t_h-HsT",
        "outputId": "35a1b227-eb7b-4dbf-b4ae-d24388dcc9c7"
      },
      "source": [
        "model.summary()"
      ],
      "execution_count": null,
      "outputs": [
        {
          "output_type": "stream",
          "text": [
            "__________________________________________________________________________________________________\n",
            "Layer (type)                    Output Shape         Param #     Connected to                     \n",
            "==================================================================================================\n",
            "input_1 (InputLayer)            (None, None)         0                                            \n",
            "__________________________________________________________________________________________________\n",
            "input_2 (InputLayer)            (None, None)         0                                            \n",
            "__________________________________________________________________________________________________\n",
            "embedding_1 (Embedding)         (None, None, 300)    4737000     input_1[0][0]                    \n",
            "__________________________________________________________________________________________________\n",
            "embedding_2 (Embedding)         (None, None, 300)    4896000     input_2[0][0]                    \n",
            "__________________________________________________________________________________________________\n",
            "lstm_1 (LSTM)                   [(None, 300), (None, 721200      embedding_1[0][0]                \n",
            "__________________________________________________________________________________________________\n",
            "lstm_2 (LSTM)                   [(None, None, 300),  721200      embedding_2[0][0]                \n",
            "                                                                 lstm_1[0][1]                     \n",
            "                                                                 lstm_1[0][2]                     \n",
            "__________________________________________________________________________________________________\n",
            "dense_1 (Dense)                 (None, None, 16320)  4912320     lstm_2[0][0]                     \n",
            "==================================================================================================\n",
            "Total params: 15,987,720\n",
            "Trainable params: 15,987,720\n",
            "Non-trainable params: 0\n",
            "__________________________________________________________________________________________________\n"
          ],
          "name": "stdout"
        }
      ]
    },
    {
      "cell_type": "code",
      "metadata": {
        "trusted": true,
        "id": "amVzTosQ-HsU"
      },
      "source": [
        "train_samples = len(X_train)\n",
        "val_samples = len(X_test)\n",
        "batch_size = 128\n",
        "epochs = 100"
      ],
      "execution_count": null,
      "outputs": []
    },
    {
      "cell_type": "code",
      "metadata": {
        "trusted": true,
        "id": "NSaYjMtK-HsU"
      },
      "source": [
        "model.fit_generator(generator = generate_batch(X_train, y_train, batch_size = batch_size),\n",
        "                    steps_per_epoch = train_samples//batch_size,\n",
        "                    epochs=epochs,\n",
        "                    validation_data = generate_batch(X_test, y_test, batch_size = batch_size),\n",
        "                    validation_steps = val_samples//batch_size)\n",
        "\n"
      ],
      "execution_count": null,
      "outputs": []
    },
    {
      "cell_type": "code",
      "metadata": {
        "trusted": true,
        "id": "Gfnccq4O-HsU"
      },
      "source": [
        "model.save_weights('nmt_weights.h5')"
      ],
      "execution_count": null,
      "outputs": []
    },
    {
      "cell_type": "code",
      "metadata": {
        "trusted": true,
        "id": "hCMLlqQ0-HsU"
      },
      "source": [
        "model.load_weights('../input/models/nmt_weights.h5')"
      ],
      "execution_count": null,
      "outputs": []
    },
    {
      "cell_type": "code",
      "metadata": {
        "trusted": true,
        "id": "h6SbIwPv-HsV"
      },
      "source": [
        "train_gen = generate_batch(X_train, y_train, batch_size = 1)\n",
        "k=-1\n"
      ],
      "execution_count": null,
      "outputs": []
    },
    {
      "cell_type": "code",
      "metadata": {
        "trusted": true,
        "id": "bUBQDGYW-HsV"
      },
      "source": [
        "# Encode the input sequence to get the \"thought vectors\"\n",
        "encoder_model = Model(encoder_inputs, encoder_states)\n",
        "\n",
        "# Decoder setup\n",
        "# Below tensors will hold the states of the previous time step\n",
        "decoder_state_input_h = Input(shape=(latent_dim,))\n",
        "decoder_state_input_c = Input(shape=(latent_dim,))\n",
        "decoder_states_inputs = [decoder_state_input_h, decoder_state_input_c]\n",
        "\n",
        "dec_emb2= dec_emb_layer(decoder_inputs) # Get the embeddings of the decoder sequence\n",
        "\n",
        "# To predict the next word in the sequence, set the initial states to the states from the previous time step\n",
        "decoder_outputs2, state_h2, state_c2 = decoder_lstm(dec_emb2, initial_state=decoder_states_inputs)\n",
        "decoder_states2 = [state_h2, state_c2]\n",
        "decoder_outputs2 = decoder_dense(decoder_outputs2) # A dense softmax layer to generate prob dist. over the target vocabulary\n",
        "\n",
        "# Final decoder model\n",
        "decoder_model = Model(\n",
        "    [decoder_inputs] + decoder_states_inputs,\n",
        "    [decoder_outputs2] + decoder_states2)"
      ],
      "execution_count": null,
      "outputs": []
    },
    {
      "cell_type": "code",
      "metadata": {
        "trusted": true,
        "id": "omlxRIgb-HsV"
      },
      "source": [
        "def decode_sequence(input_seq):\n",
        "    # Encode the input as state vectors.\n",
        "    states_value = encoder_model.predict(input_seq)\n",
        "    # Generate empty target sequence of length 1.\n",
        "    target_seq = np.zeros((1,1))\n",
        "    # Populate the first character of target sequence with the start character.\n",
        "    target_seq[0, 0] = target_token_index['START_']\n",
        "\n",
        "    # Sampling loop for a batch of sequences\n",
        "    # (to simplify, here we assume a batch of size 1).\n",
        "    stop_condition = False\n",
        "    decoded_sentence = ''\n",
        "    while not stop_condition:\n",
        "        output_tokens, h, c = decoder_model.predict([target_seq] + states_value)\n",
        "\n",
        "        # Sample a token\n",
        "        sampled_token_index = np.argmax(output_tokens[0, -1, :])\n",
        "        sampled_char = reverse_target_char_index[sampled_token_index]\n",
        "        decoded_sentence += ' '+sampled_char\n",
        "\n",
        "        # Exit condition: either hit max length\n",
        "        # or find stop character.\n",
        "        if (sampled_char == '_END' or\n",
        "           len(decoded_sentence) > 50):\n",
        "            stop_condition = True\n",
        "\n",
        "        # Update the target sequence (of length 1).\n",
        "        target_seq = np.zeros((1,1))\n",
        "        target_seq[0, 0] = sampled_token_index\n",
        "\n",
        "        # Update states\n",
        "        states_value = [h, c]\n",
        "\n",
        "    return decoded_sentence"
      ],
      "execution_count": null,
      "outputs": []
    },
    {
      "cell_type": "code",
      "metadata": {
        "trusted": true,
        "id": "VfvAmwB0-HsW",
        "outputId": "639c1a66-3488-480f-b652-894042951b68"
      },
      "source": [
        "k+=1\n",
        "(input_seq, actual_output), _ = next(train_gen)\n",
        "decoded_sentence = decode_sequence(input_seq)\n",
        "print('Input Yoruba sentence:', X_train[k:k+1].values[0])\n",
        "print('Actual English Translation:', y_train[k:k+1].values[0][6:-4])\n",
        "print('Predicted English Translation:', decoded_sentence[:-4])"
      ],
      "execution_count": null,
      "outputs": [
        {
          "output_type": "stream",
          "text": [
            "Input Yoruba sentence: lára wọn ni nǹkan bí ẹgbẹ̀rún lọ́nà ọgọ́jọ àwọn ará wa àti ẹgbẹ̀rún lọ́nà ọgọ́rùnún méjì ó dín mẹ́ta àwọn akẹ́kọ̀ọ́ bíbélì\n",
            "Actual English Translation:  that number includes nearly of our brothers and sisters as well as over bible students \n",
            "Predicted English Translation:  as a result number of our brothers will be rele\n"
          ],
          "name": "stdout"
        }
      ]
    },
    {
      "cell_type": "code",
      "metadata": {
        "trusted": true,
        "id": "jqM0y4mN-HsX",
        "outputId": "b54a0dc2-31f0-4247-e8a3-c1280aeedfe8"
      },
      "source": [
        "k+=1\n",
        "(input_seq, actual_output), _ = next(train_gen)\n",
        "decoded_sentence = decode_sequence(input_seq)\n",
        "print('Input Yoruba sentence:', X_train[k:k+1].values[0])\n",
        "print('Actual English Translation:', y_train[k:k+1].values[0][6:-4])\n",
        "print('Predicted English Translation:', decoded_sentence[:-4])"
      ],
      "execution_count": null,
      "outputs": [
        {
          "output_type": "stream",
          "text": [
            "Input Yoruba sentence: a kì í fi ogun dán ẹ̀ṣọ́ wò\n",
            "Actual English Translation:  one does not tease a warrior by saying there is a war or an invasion \n",
            "Predicted English Translation:  one does not find a while on a game hand and only\n"
          ],
          "name": "stdout"
        }
      ]
    },
    {
      "cell_type": "code",
      "metadata": {
        "trusted": true,
        "id": "nVxM1oGU-HsX",
        "outputId": "053e21b3-c101-4aeb-80f5-69f089775128"
      },
      "source": [
        "k+=1\n",
        "(input_seq, actual_output), _ = next(train_gen)\n",
        "decoded_sentence = decode_sequence(input_seq)\n",
        "print('Input Yoruba sentence:', X_train[k:k+1].values[0])\n",
        "print('Actual English Translation:', y_train[k:k+1].values[0][6:-4])\n",
        "print('Predicted English Translation:', decoded_sentence[:-4])"
      ],
      "execution_count": null,
      "outputs": [
        {
          "output_type": "stream",
          "text": [
            "Input Yoruba sentence: ní april ilé ẹjọ́ ìlú surgut pàṣẹ pé kí wọ́n tú arákùnrin yevgeniy fedin àti arákùnrin sergey loginov sílẹ̀ ní àtìmọ́lé\n",
            "Actual English Translation:  on april the surgut city court ordered the release of brothers yevgeniy fedin and sergey loginov from pretrial detention \n",
            "Predicted English Translation:  on april the surgut city court ordered the rel\n"
          ],
          "name": "stdout"
        }
      ]
    },
    {
      "cell_type": "code",
      "metadata": {
        "trusted": true,
        "id": "R-aVYpvv-HsX",
        "outputId": "b94950ad-c908-4e78-943a-682a18f47f28"
      },
      "source": [
        "k+=1\n",
        "(input_seq, actual_output), _ = next(train_gen)\n",
        "decoded_sentence = decode_sequence(input_seq)\n",
        "print('Input Yoruba sentence:', X_train[k:k+1].values[0])\n",
        "print('Actual English Translation:', y_train[k:k+1].values[0][6:-4])\n",
        "print('Predicted English Translation:', decoded_sentence[:-4])"
      ],
      "execution_count": null,
      "outputs": [
        {
          "output_type": "stream",
          "text": [
            "Input Yoruba sentence: ìbẹ̀rẹ̀ òṣì bí ọmọ ọlọ́rọ̀ là ń rí\n",
            "Actual English Translation:  at the beginning of ones penury one seems like the child of most prosperous parents \n",
            "Predicted English Translation:  at the beginning of ones penury one seems like\n"
          ],
          "name": "stdout"
        }
      ]
    },
    {
      "cell_type": "code",
      "metadata": {
        "trusted": true,
        "id": "ioYqh43e-HsY",
        "outputId": "9d93ed70-6a9d-4cfe-cd3c-2641885adc6c"
      },
      "source": [
        "k+=1\n",
        "(input_seq, actual_output), _ = next(train_gen)\n",
        "decoded_sentence = decode_sequence(input_seq)\n",
        "print('Input Yoruba sentence:', X_train[k:k+1].values[0])\n",
        "print('Actual English Translation:', y_train[k:k+1].values[0][6:-4])\n",
        "print('Predicted English Translation:', decoded_sentence[:-4])"
      ],
      "execution_count": null,
      "outputs": [
        {
          "output_type": "stream",
          "text": [
            "Input Yoruba sentence: ìmìtìtì ilẹ̀ ṣọṣẹ́ ní gúúsù california\n",
            "Actual English Translation:  earthquakes rattle southern california \n",
            "Predicted English Translation:  earthquakes rattle southern california \n"
          ],
          "name": "stdout"
        }
      ]
    },
    {
      "cell_type": "markdown",
      "metadata": {
        "id": "tsNFr2jw-PI-"
      },
      "source": [
        "## ***Submission***"
      ]
    },
    {
      "cell_type": "code",
      "metadata": {
        "trusted": true,
        "id": "eI66dNgk-HsY"
      },
      "source": [
        "test=pd.read_csv('../input/zinditraduction/Test (10).csv')"
      ],
      "execution_count": null,
      "outputs": []
    },
    {
      "cell_type": "code",
      "metadata": {
        "trusted": true,
        "id": "4aESym8h-HsY",
        "outputId": "ff33d35b-ff45-49d5-95f6-8442d8cda55c"
      },
      "source": [
        "test.head(5)"
      ],
      "execution_count": null,
      "outputs": [
        {
          "output_type": "execute_result",
          "data": {
            "text/plain": [
              "            ID                                                                                                                                                      Yoruba\n",
              "0  ID_AAAitMaH  Nínú ìpè kan lẹ́yìn ìgbà náà, wọ́n sọ fún aṣojú iléeṣẹ́ BlaBlaCar pé ètò náà ti yí padà, pé àwọn á máa ṣe ìfọ̀rọ̀wọ́rọ̀ pẹ̀lú àwọn oníbàáràa wọn dípò wọn.\n",
              "1  ID_AAKKdQwr  Nítorí kò sí nǹkan tí ọkùnrin ò lè ṣe láì nááni nígbà tí nǹkan tó tàsé bá ṣẹlẹ̀.                                                                          \n",
              "2  ID_ABgAyEOp  Bí i kó pariwo. Kí ó kígbe mọ́ ẹ?                                                                                                                         \n",
              "3  ID_ACFgfKQs  Tí ó ń lé e lọ sọ́nà etí odò Akókurà, tí ó bẹ̀ẹ́ pé kí ó padà, tí ó ń bẹ́ẹ̀ kí ó tó di wí pé ó kọjá odò náà.                                              \n",
              "4  ID_ACNPmlhf  Èṣúńiyì mọ̀ iṣẹ́ rẹ̀ dunjú. Màmá tirí bí ó ṣe yanjú irú ìṣòro bẹ́ẹ̀ mẹ́ta ní abúlé .…                                                                     "
            ],
            "text/html": [
              "<div>\n",
              "<style scoped>\n",
              "    .dataframe tbody tr th:only-of-type {\n",
              "        vertical-align: middle;\n",
              "    }\n",
              "\n",
              "    .dataframe tbody tr th {\n",
              "        vertical-align: top;\n",
              "    }\n",
              "\n",
              "    .dataframe thead th {\n",
              "        text-align: right;\n",
              "    }\n",
              "</style>\n",
              "<table border=\"1\" class=\"dataframe\">\n",
              "  <thead>\n",
              "    <tr style=\"text-align: right;\">\n",
              "      <th></th>\n",
              "      <th>ID</th>\n",
              "      <th>Yoruba</th>\n",
              "    </tr>\n",
              "  </thead>\n",
              "  <tbody>\n",
              "    <tr>\n",
              "      <th>0</th>\n",
              "      <td>ID_AAAitMaH</td>\n",
              "      <td>Nínú ìpè kan lẹ́yìn ìgbà náà, wọ́n sọ fún aṣojú iléeṣẹ́ BlaBlaCar pé ètò náà ti yí padà, pé àwọn á máa ṣe ìfọ̀rọ̀wọ́rọ̀ pẹ̀lú àwọn oníbàáràa wọn dípò wọn.</td>\n",
              "    </tr>\n",
              "    <tr>\n",
              "      <th>1</th>\n",
              "      <td>ID_AAKKdQwr</td>\n",
              "      <td>Nítorí kò sí nǹkan tí ọkùnrin ò lè ṣe láì nááni nígbà tí nǹkan tó tàsé bá ṣẹlẹ̀.</td>\n",
              "    </tr>\n",
              "    <tr>\n",
              "      <th>2</th>\n",
              "      <td>ID_ABgAyEOp</td>\n",
              "      <td>Bí i kó pariwo. Kí ó kígbe mọ́ ẹ?</td>\n",
              "    </tr>\n",
              "    <tr>\n",
              "      <th>3</th>\n",
              "      <td>ID_ACFgfKQs</td>\n",
              "      <td>Tí ó ń lé e lọ sọ́nà etí odò Akókurà, tí ó bẹ̀ẹ́ pé kí ó padà, tí ó ń bẹ́ẹ̀ kí ó tó di wí pé ó kọjá odò náà.</td>\n",
              "    </tr>\n",
              "    <tr>\n",
              "      <th>4</th>\n",
              "      <td>ID_ACNPmlhf</td>\n",
              "      <td>Èṣúńiyì mọ̀ iṣẹ́ rẹ̀ dunjú. Màmá tirí bí ó ṣe yanjú irú ìṣòro bẹ́ẹ̀ mẹ́ta ní abúlé .…</td>\n",
              "    </tr>\n",
              "  </tbody>\n",
              "</table>\n",
              "</div>"
            ]
          },
          "metadata": {
            "tags": []
          },
          "execution_count": 50
        }
      ]
    },
    {
      "cell_type": "code",
      "metadata": {
        "trusted": true,
        "id": "w8T_w0T5-HsZ"
      },
      "source": [
        "test['English']=\"\""
      ],
      "execution_count": null,
      "outputs": []
    },
    {
      "cell_type": "code",
      "metadata": {
        "trusted": true,
        "id": "lHxSQZ3j-HsZ"
      },
      "source": [
        "X_sub=test['Yoruba']\n",
        "y_sub=test['English']"
      ],
      "execution_count": null,
      "outputs": []
    },
    {
      "cell_type": "code",
      "metadata": {
        "trusted": true,
        "id": "rzTGl4Ny-HsZ"
      },
      "source": [
        "for eng in test['Yoruba']:\n",
        "    for word in eng.split():\n",
        "        if word not in all_Yoruba_words:\n",
        "            all_Yoruba_words.add(word)\n"
      ],
      "execution_count": null,
      "outputs": []
    },
    {
      "cell_type": "code",
      "metadata": {
        "trusted": true,
        "id": "kPMBz6q3-HsZ"
      },
      "source": [
        "input_words = sorted(list(all_Yoruba_words))"
      ],
      "execution_count": null,
      "outputs": []
    },
    {
      "cell_type": "code",
      "metadata": {
        "trusted": true,
        "id": "-IJ-ZZCs-HsZ"
      },
      "source": [
        "input_token_index = dict([(word, i+1) for i, word in enumerate(input_words)])"
      ],
      "execution_count": null,
      "outputs": []
    },
    {
      "cell_type": "code",
      "metadata": {
        "trusted": true,
        "id": "F9ULJxHc-Hsa"
      },
      "source": [
        "sub_gen = generate_batch(X_sub, y_sub, batch_size = 1)"
      ],
      "execution_count": null,
      "outputs": []
    },
    {
      "cell_type": "code",
      "metadata": {
        "trusted": true,
        "id": "UB5XkI-f-Hsa"
      },
      "source": [
        "l=[]\n",
        "for k in range(len(test)):\n",
        "    (input_seq, actual_output), _ = next(sub_gen)\n",
        "    decoded_sentence = decode_sequence(input_seq)\n",
        "    #print('Input Yoruba sentence:', X_sub[k:k+1].values[0])\n",
        "    #print('Predicted English Translation:', decoded_sentence[:-4])\n",
        "    l.append(decoded_sentence)\n",
        "    \n",
        "    \n",
        "    \n",
        "    "
      ],
      "execution_count": null,
      "outputs": []
    },
    {
      "cell_type": "code",
      "metadata": {
        "trusted": true,
        "id": "KfkYjN6k-Hsa",
        "outputId": "615c82c2-2b8b-499f-8a48-e0f92b4f7d39"
      },
      "source": [
        "len(test),len(l)"
      ],
      "execution_count": null,
      "outputs": [
        {
          "output_type": "execute_result",
          "data": {
            "text/plain": [
              "(6816, 6816)"
            ]
          },
          "metadata": {
            "tags": []
          },
          "execution_count": 79
        }
      ]
    },
    {
      "cell_type": "code",
      "metadata": {
        "trusted": true,
        "id": "Y3aTAB7s-Hsa"
      },
      "source": [
        "test['English']=l"
      ],
      "execution_count": null,
      "outputs": []
    },
    {
      "cell_type": "code",
      "metadata": {
        "trusted": true,
        "id": "u6FYQuua-Hsb",
        "outputId": "b7562c46-2543-45da-d79a-9e3f6faa9c9b"
      },
      "source": [
        "test.head(10)"
      ],
      "execution_count": null,
      "outputs": [
        {
          "output_type": "execute_result",
          "data": {
            "text/plain": [
              "            ID                                                                                                                                                      Yoruba                                                     English\n",
              "0  ID_AAAitMaH  Nínú ìpè kan lẹ́yìn ìgbà náà, wọ́n sọ fún aṣojú iléeṣẹ́ BlaBlaCar pé ètò náà ti yí padà, pé àwọn á máa ṣe ìfọ̀rọ̀wọ́rọ̀ pẹ̀lú àwọn oníbàáràa wọn dípò wọn.   local experiences rogelio jolongbayan regional experience\n",
              "1  ID_AAKKdQwr  Nítorí kò sí nǹkan tí ọkùnrin ò lè ṣe láì nááni nígbà tí nǹkan tó tàsé bá ṣẹlẹ̀.                                                                             in a game interview with global voices and focus the     \n",
              "2  ID_ABgAyEOp  Bí i kó pariwo. Kí ó kígbe mọ́ ẹ?                                                                                                                            the squirrel itself for the senior in the wise person    \n",
              "3  ID_ACFgfKQs  Tí ó ń lé e lọ sọ́nà etí odò Akókurà, tí ó bẹ̀ẹ́ pé kí ó padà, tí ó ń bẹ́ẹ̀ kí ó tó di wí pé ó kọjá odò náà.                                                 mr toriola disclosed that when he was not made enough    \n",
              "4  ID_ACNPmlhf  Èṣúńiyì mọ̀ iṣẹ́ rẹ̀ dunjú. Màmá tirí bí ó ṣe yanjú irú ìṣòro bẹ́ẹ̀ mẹ́ta ní abúlé .…                                                                        for the open process i was a blessing on one as a coach  \n",
              "5  ID_ACqxiSuP  Làbákẹ́ wo ọkùnrin náà. Ojú rẹ̀ ti gán-án-ní nọ́mbà ọkọ̀ náà.                                                                                                nadal with a great feel of the streets with a fight      \n",
              "6  ID_ACyrfZeN  Ohun tí a kọ sí ojú pátákó: \"Gbé Ìgbésẹ̀ kí o sì kọ àjọ̀dún Òyìnbó\" àti \"Ṣe ìgbélárugẹ àṣà ìbílẹ̀, kọ àjọ̀dún Òyìnbó\".                                       lagos is a motion of the lagos area dr principles of     \n",
              "7  ID_ADPgGOCq  Bákan náà ni Omarah gbóríyìn fún iléeṣẹ́ eré orí ìtàgé Nollywood ti Nàìjíríà.                                                                                for you to have a look from technical explanation and    \n",
              "8  ID_AEJQFohp  Ìrò olóòtú ìwé ìròyìn Punch pe ìhùwàsíi Buhari gẹ́gẹ́ bíi ti apàṣẹ-wàá àti pé ìwà náà lè fa rògbòdìyàn-an ti òfin:                                           but in a second day of the game looking at the saturday’s\n",
              "9  ID_AEPshcAq  Àwọn elétò náà sọ pé ó \"nírú ẹ̀yà\" tí àwọn olugbọ́ àwọn ń fẹ́.                                                                                               mr seen is the idea of the first time in making the      "
            ],
            "text/html": [
              "<div>\n",
              "<style scoped>\n",
              "    .dataframe tbody tr th:only-of-type {\n",
              "        vertical-align: middle;\n",
              "    }\n",
              "\n",
              "    .dataframe tbody tr th {\n",
              "        vertical-align: top;\n",
              "    }\n",
              "\n",
              "    .dataframe thead th {\n",
              "        text-align: right;\n",
              "    }\n",
              "</style>\n",
              "<table border=\"1\" class=\"dataframe\">\n",
              "  <thead>\n",
              "    <tr style=\"text-align: right;\">\n",
              "      <th></th>\n",
              "      <th>ID</th>\n",
              "      <th>Yoruba</th>\n",
              "      <th>English</th>\n",
              "    </tr>\n",
              "  </thead>\n",
              "  <tbody>\n",
              "    <tr>\n",
              "      <th>0</th>\n",
              "      <td>ID_AAAitMaH</td>\n",
              "      <td>Nínú ìpè kan lẹ́yìn ìgbà náà, wọ́n sọ fún aṣojú iléeṣẹ́ BlaBlaCar pé ètò náà ti yí padà, pé àwọn á máa ṣe ìfọ̀rọ̀wọ́rọ̀ pẹ̀lú àwọn oníbàáràa wọn dípò wọn.</td>\n",
              "      <td>local experiences rogelio jolongbayan regional experience</td>\n",
              "    </tr>\n",
              "    <tr>\n",
              "      <th>1</th>\n",
              "      <td>ID_AAKKdQwr</td>\n",
              "      <td>Nítorí kò sí nǹkan tí ọkùnrin ò lè ṣe láì nááni nígbà tí nǹkan tó tàsé bá ṣẹlẹ̀.</td>\n",
              "      <td>in a game interview with global voices and focus the</td>\n",
              "    </tr>\n",
              "    <tr>\n",
              "      <th>2</th>\n",
              "      <td>ID_ABgAyEOp</td>\n",
              "      <td>Bí i kó pariwo. Kí ó kígbe mọ́ ẹ?</td>\n",
              "      <td>the squirrel itself for the senior in the wise person</td>\n",
              "    </tr>\n",
              "    <tr>\n",
              "      <th>3</th>\n",
              "      <td>ID_ACFgfKQs</td>\n",
              "      <td>Tí ó ń lé e lọ sọ́nà etí odò Akókurà, tí ó bẹ̀ẹ́ pé kí ó padà, tí ó ń bẹ́ẹ̀ kí ó tó di wí pé ó kọjá odò náà.</td>\n",
              "      <td>mr toriola disclosed that when he was not made enough</td>\n",
              "    </tr>\n",
              "    <tr>\n",
              "      <th>4</th>\n",
              "      <td>ID_ACNPmlhf</td>\n",
              "      <td>Èṣúńiyì mọ̀ iṣẹ́ rẹ̀ dunjú. Màmá tirí bí ó ṣe yanjú irú ìṣòro bẹ́ẹ̀ mẹ́ta ní abúlé .…</td>\n",
              "      <td>for the open process i was a blessing on one as a coach</td>\n",
              "    </tr>\n",
              "    <tr>\n",
              "      <th>5</th>\n",
              "      <td>ID_ACqxiSuP</td>\n",
              "      <td>Làbákẹ́ wo ọkùnrin náà. Ojú rẹ̀ ti gán-án-ní nọ́mbà ọkọ̀ náà.</td>\n",
              "      <td>nadal with a great feel of the streets with a fight</td>\n",
              "    </tr>\n",
              "    <tr>\n",
              "      <th>6</th>\n",
              "      <td>ID_ACyrfZeN</td>\n",
              "      <td>Ohun tí a kọ sí ojú pátákó: \"Gbé Ìgbésẹ̀ kí o sì kọ àjọ̀dún Òyìnbó\" àti \"Ṣe ìgbélárugẹ àṣà ìbílẹ̀, kọ àjọ̀dún Òyìnbó\".</td>\n",
              "      <td>lagos is a motion of the lagos area dr principles of</td>\n",
              "    </tr>\n",
              "    <tr>\n",
              "      <th>7</th>\n",
              "      <td>ID_ADPgGOCq</td>\n",
              "      <td>Bákan náà ni Omarah gbóríyìn fún iléeṣẹ́ eré orí ìtàgé Nollywood ti Nàìjíríà.</td>\n",
              "      <td>for you to have a look from technical explanation and</td>\n",
              "    </tr>\n",
              "    <tr>\n",
              "      <th>8</th>\n",
              "      <td>ID_AEJQFohp</td>\n",
              "      <td>Ìrò olóòtú ìwé ìròyìn Punch pe ìhùwàsíi Buhari gẹ́gẹ́ bíi ti apàṣẹ-wàá àti pé ìwà náà lè fa rògbòdìyàn-an ti òfin:</td>\n",
              "      <td>but in a second day of the game looking at the saturday’s</td>\n",
              "    </tr>\n",
              "    <tr>\n",
              "      <th>9</th>\n",
              "      <td>ID_AEPshcAq</td>\n",
              "      <td>Àwọn elétò náà sọ pé ó \"nírú ẹ̀yà\" tí àwọn olugbọ́ àwọn ń fẹ́.</td>\n",
              "      <td>mr seen is the idea of the first time in making the</td>\n",
              "    </tr>\n",
              "  </tbody>\n",
              "</table>\n",
              "</div>"
            ]
          },
          "metadata": {
            "tags": []
          },
          "execution_count": 81
        }
      ]
    },
    {
      "cell_type": "code",
      "metadata": {
        "trusted": true,
        "id": "_tp_Y7nN-Hsb"
      },
      "source": [
        "test[['ID','English']].to_csv('submission.csv',index=False)"
      ],
      "execution_count": null,
      "outputs": []
    }
  ]
}